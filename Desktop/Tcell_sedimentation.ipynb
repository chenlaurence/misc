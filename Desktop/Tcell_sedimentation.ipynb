{
 "cells": [
  {
   "cell_type": "markdown",
   "metadata": {},
   "source": [
    "Sedimentation velocity (Stoke's Law)"
   ]
  },
  {
   "cell_type": "code",
   "execution_count": 2,
   "metadata": {
    "collapsed": true
   },
   "outputs": [],
   "source": [
    "# v = ((diameter*diameter)*(p_particle-p_medium)*g)/(18*viscosity)"
   ]
  },
  {
   "cell_type": "code",
   "execution_count": 37,
   "metadata": {
    "collapsed": false
   },
   "outputs": [
    {
     "data": {
      "text/html": [
       "<img src=\"http://www.sigmaaldrich.com/content/dam/sigma-aldrich/articles/biofiles/Volume%206%20Number%205/stokes-equation.jpg\"/>"
      ],
      "text/plain": [
       "<IPython.core.display.Image object>"
      ]
     },
     "execution_count": 37,
     "metadata": {},
     "output_type": "execute_result"
    }
   ],
   "source": [
    "from IPython.display import Image\n",
    "binding_url = ('http://www.sigmaaldrich.com/content/dam/sigma-aldrich/articles/biofiles/Volume%206%20Number%205/stokes-equation.jpg')\n",
    "Image(url = binding_url)"
   ]
  },
  {
   "cell_type": "raw",
   "metadata": {},
   "source": [
    "T cell (lymphocyte) diameter [diameter] : 7 um\n",
    "\n",
    "T cell density [p_particle] : approximate to be 1.070 g/mL\n",
    "https://www.ncbi.nlm.nih.gov/pubmed/7047646\n",
    "\n",
    "RPMI 1640 density at 20 degC [p_medium] : 1.038 g/mL\n",
    "https://www.biowest.net/media/l0500s_anglais__021797000_1454_25082015.pdf\n",
    "\n",
    "RPMI 1640 viscosity at 37 degC [viscosity]: 0.79 cP\n",
    "http://www.sciencedirect.com/science/article/pii/S0006349501761437 (table 1)\n",
    "Note: 1 cP = 0.01 g/(cm-s)"
   ]
  },
  {
   "cell_type": "code",
   "execution_count": 27,
   "metadata": {
    "collapsed": true
   },
   "outputs": [],
   "source": [
    "# 7 uM --> 7e-4 cm\n",
    "diameter = 7e-4\n",
    "# 1.070 g/mL --> 1.070 g/cm3 \n",
    "p_particle = 1.070\n",
    "# 1.038 g/mL --> 1.038 g/cm3 \n",
    "p_medium = 1.038\n",
    "# 0.79 cP --> 0.0079 g/(cm-s)\n",
    "viscosity = 0.0079\n",
    "# 9.8 m/s2 --> 980 cm/s^2\n",
    "g = 980"
   ]
  },
  {
   "cell_type": "code",
   "execution_count": 28,
   "metadata": {
    "collapsed": true
   },
   "outputs": [],
   "source": [
    "v = ((diameter*diameter)*(p_particle-p_medium)*g)/(18*viscosity)"
   ]
  },
  {
   "cell_type": "code",
   "execution_count": 29,
   "metadata": {
    "collapsed": false
   },
   "outputs": [
    {
     "name": "stdout",
     "output_type": "stream",
     "text": [
      "sedimentation velocity: 0.000108061884669   cm/s\n"
     ]
    }
   ],
   "source": [
    "print 'sedimentation velocity: ' + str(v) + '   cm/s'"
   ]
  },
  {
   "cell_type": "code",
   "execution_count": 30,
   "metadata": {
    "collapsed": false
   },
   "outputs": [
    {
     "name": "stdout",
     "output_type": "stream",
     "text": [
      "sedimentation velocity: 0.38902278481   cm/hr\n"
     ]
    }
   ],
   "source": [
    "print 'sedimentation velocity: ' + str(v*3600) + '   cm/hr'\n",
    "v_cmhr = v*3600;"
   ]
  },
  {
   "cell_type": "code",
   "execution_count": 39,
   "metadata": {
    "collapsed": false
   },
   "outputs": [
    {
     "name": "stdout",
     "output_type": "stream",
     "text": [
      "it will take approx 2.57054352353 hrs for a single average T cell to sediment 1 cm\n"
     ]
    }
   ],
   "source": [
    "print 'it will take approx ' + str(1/v_cmhr) + ' hrs for a single average T cell to sediment 1 cm'"
   ]
  },
  {
   "cell_type": "markdown",
   "metadata": {},
   "source": [
    "Visually, 270 uL and 800 uL in a 96-well and 48-well plate fills up 0.25 and 0.5 cm in height respectively (pilot study)"
   ]
  },
  {
   "cell_type": "code",
   "execution_count": 43,
   "metadata": {
    "collapsed": false
   },
   "outputs": [
    {
     "name": "stdout",
     "output_type": "stream",
     "text": [
      "for 96-well: ~0.642635880883 hrs or 38.558152853 mins\n",
      "for 48-well: ~1.28527176177 hrs or 77.116305706 mins\n"
     ]
    }
   ],
   "source": [
    "print 'for 96-well: ~' + str(0.25/v_cmhr) + ' hrs or ' + str(0.25*60/v_cmhr) + ' mins'\n",
    "print 'for 48-well: ~' + str(0.5/v_cmhr) + ' hrs or ' + str(0.50*60/v_cmhr) + ' mins'"
   ]
  },
  {
   "cell_type": "markdown",
   "metadata": {},
   "source": [
    "Visually, 13 mL to 20 mL in a T25 flask fills up to 2.25 to 3 cm in height"
   ]
  },
  {
   "cell_type": "code",
   "execution_count": null,
   "metadata": {
    "collapsed": true
   },
   "outputs": [],
   "source": []
  }
 ],
 "metadata": {
  "kernelspec": {
   "display_name": "Python 2",
   "language": "python",
   "name": "python2"
  },
  "language_info": {
   "codemirror_mode": {
    "name": "ipython",
    "version": 2
   },
   "file_extension": ".py",
   "mimetype": "text/x-python",
   "name": "python",
   "nbconvert_exporter": "python",
   "pygments_lexer": "ipython2",
   "version": "2.7.12"
  }
 },
 "nbformat": 4,
 "nbformat_minor": 0
}
